{
  "nbformat": 4,
  "nbformat_minor": 0,
  "metadata": {
    "colab": {
      "provenance": [],
      "gpuType": "T4"
    },
    "kernelspec": {
      "name": "python3",
      "display_name": "Python 3"
    },
    "language_info": {
      "name": "python"
    },
    "accelerator": "GPU"
  },
  "cells": [
    {
      "cell_type": "markdown",
      "source": [
        "<center>\n",
        "  <img src=\"https://www.mersenne.org/images/Mersenne_Color_80x101.jpg\" height=\"80\"/>\n",
        "  <img src=\"https://www.mersenne.org/images/logo.gif\" height=\"80\"/>\n",
        "</center>\n",
        "\n",
        "# 🚀 PrMers — GPU-Accelerated Mersenne Prime Testing\n",
        "\n",
        "**PrMers** is a high-performance tool for testing Mersenne numbers of the form \\( 2^p - 1 \\), using **Lucas-Lehmer** and **PRP (Probable Prime)** algorithms on your GPU via OpenCL.\n",
        "\n",
        "It leverages advanced Number Theoretic Transforms (NTT) and integer-based DWTs to perform extremely fast primality tests.\n",
        "\n",
        "---\n",
        "\n",
        "### 🎯 How to Use This Notebook\n",
        "\n",
        "- Use the `exponent_to_test` field below to choose the Mersenne exponent \\( p \\) you want to test.\n",
        "- The program will automatically select **PRP mode** for known exponents and compute the result on your GPU.\n",
        "\n",
        "---\n",
        "\n",
        "### ⚠️ Important: Enable GPU in Colab\n",
        "\n",
        "To use PrMers, your runtime must have GPU enabled (e.g., T4 or better):\n",
        "\n",
        "1. Go to **Runtime > Change runtime type**.\n",
        "2. Set **Hardware accelerator** to `GPU`.\n",
        "3. Click **Save**.\n",
        "\n",
        "You can verify your GPU with:\n",
        "\n",
        "```python\n",
        "!nvidia-smi\n"
      ],
      "metadata": {
        "id": "tiM1BaPNuc54"
      }
    },
    {
      "cell_type": "code",
      "source": [
        "exponent_to_test = 110503 # @param {\"type\":\"number\"}\n",
        "import subprocess\n",
        "\n",
        "def check_gpu():\n",
        "    try:\n",
        "        subprocess.check_output(['nvidia-smi'], stderr=subprocess.STDOUT)\n",
        "        print(\"✅ GPU detected and ready!\")\n",
        "    except Exception:\n",
        "        from IPython.display import Markdown, display\n",
        "        display(Markdown(\"\"\"\n",
        "❌ **GPU not detected.**\n",
        "\n",
        "To enable GPU in Colab:\n",
        "\n",
        "1. Click on the top menu: `Runtime` → `Change runtime type`\n",
        "2. Select `GPU` under *Hardware accelerator*\n",
        "3. Click `Save`\n",
        "4. Then re-run the notebook from the beginning (**Runtime > Run all**)\n",
        "\n",
        "⚠️ Until a GPU is enabled, PrMers cannot run correctly.\n",
        "\"\"\"))\n",
        "        raise RuntimeError(\"Execution stopped: GPU not available.\")\n",
        "\n",
        "check_gpu()\n",
        "\n",
        "\n",
        "!apt-get install git -y\n",
        "!git clone https://github.com/cherubrock-seb/PrMers.git\n",
        "%cd PrMers\n",
        "!make\n",
        "!sudo apt update -qq > /dev/null\n",
        "!sudo apt purge '*nvidia*' -y > /dev/null 2>&1\n",
        "!sudo DEBIAN_FRONTEND=noninteractive apt update -qq > /dev/null\n",
        "!sudo DEBIAN_FRONTEND=noninteractive apt purge '*nvidia*' -y > /dev/null 2>&1\n",
        "!sudo DEBIAN_FRONTEND=noninteractive apt install nvidia-driver-530 -y > /dev/null 2>&1\n",
        "!./prmers exponent_to_test"
      ],
      "metadata": {
        "colab": {
          "base_uri": "https://localhost:8080/"
        },
        "id": "tSIknlIvt4up",
        "outputId": "359c7786-44c1-4bbb-865b-3a7876b2d83a"
      },
      "execution_count": null,
      "outputs": [
        {
          "output_type": "stream",
          "name": "stdout",
          "text": [
            "✅ GPU detected and ready!\n",
            "Reading package lists... Done\n",
            "Building dependency tree... Done\n",
            "Reading state information... Done\n",
            "git is already the newest version (1:2.34.1-1ubuntu1.12).\n",
            "0 upgraded, 0 newly installed, 0 to remove and 29 not upgraded.\n",
            "Cloning into 'PrMers'...\n",
            "remote: Enumerating objects: 988, done.\u001b[K\n",
            "remote: Counting objects: 100% (97/97), done.\u001b[K\n",
            "remote: Compressing objects: 100% (62/62), done.\u001b[K\n"
          ]
        }
      ]
    },
    {
      "cell_type": "code",
      "source": [],
      "metadata": {
        "id": "WfRS-4Osu8uv"
      },
      "execution_count": null,
      "outputs": []
    }
  ]
}